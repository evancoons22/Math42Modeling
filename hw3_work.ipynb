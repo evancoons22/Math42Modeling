{
 "cells": [
  {
   "cell_type": "code",
   "execution_count": 279,
   "id": "46b9d4db-fc8b-4983-8b1e-399ae17da41b",
   "metadata": {},
   "outputs": [
    {
     "name": "stdout",
     "output_type": "stream",
     "text": [
      "n = 1  [100   0   0]\n",
      "n = 2  [ 0. 80.  0.]\n",
      "n = 3  [64.  0. 72.]\n",
      "n = 4  [244.8  51.2   0. ]\n",
      "n = 5  [ 40.96 195.84  46.08]\n",
      "n = 6  [313.34  32.77 176.26]\n",
      "n = 7  [625.48 250.68  29.49]\n",
      "n = 8  [300.81 500.39 225.61]\n",
      "n = 9  [1167.38  240.65  450.35]\n",
      "n = 10  [1723.71  933.9   216.58]\n"
     ]
    }
   ],
   "source": [
    "import numpy as np\n",
    "from numpy import linalg as la\n",
    "x = (100, 0, 0)\n",
    "A = ([0, 0.8, 3.4], [0.8, 0, 0], [0, 0.9, 0])\n",
    "\n",
    "for i in range(10):\n",
    "    print(f\"n = {i + 1}  {np.around(x, 2)}\")\n",
    "    x = np.dot(A, x)\n"
   ]
  },
  {
   "cell_type": "code",
   "execution_count": 278,
   "id": "94afd37d-6143-499f-9344-f92cfa305ad5",
   "metadata": {},
   "outputs": [
    {
     "data": {
      "text/plain": [
       "array([0.56449991, 0.27347881, 0.16202128])"
      ]
     },
     "execution_count": 278,
     "metadata": {},
     "output_type": "execute_result"
    }
   ],
   "source": [
    "x / sum(x)"
   ]
  },
  {
   "cell_type": "code",
   "execution_count": 273,
   "id": "2b38e209-9d90-4b30-ab5b-0c945ddbcf1b",
   "metadata": {},
   "outputs": [
    {
     "name": "stdout",
     "output_type": "stream",
     "text": [
      "E-value: [ 1.50537964+0.j         -0.75268982+1.02938132j -0.75268982-1.02938132j]\n",
      "E-vector [[ 0.85022236+0.j          0.79315171+0.j          0.79315171-0.j        ]\n",
      " [ 0.45183147+0.j         -0.29369525-0.40165868j -0.29369525+0.40165868j]\n",
      " [ 0.27013008+0.j         -0.10648265+0.33464191j -0.10648265-0.33464191j]]\n"
     ]
    }
   ],
   "source": [
    "from numpy.linalg import eig\n",
    "\n",
    "w,v=eig(A)\n",
    "print('E-value:', w)\n",
    "print('E-vector', v)"
   ]
  },
  {
   "cell_type": "code",
   "execution_count": 274,
   "id": "7991cc56-5119-44ba-af48-27ebde9f2328",
   "metadata": {},
   "outputs": [],
   "source": [
    "eig_animal = np.around(v[:, 0], 4)"
   ]
  },
  {
   "cell_type": "code",
   "execution_count": 275,
   "id": "068b5838-4fdc-46f3-87c1-e9e0b54d96a3",
   "metadata": {},
   "outputs": [
    {
     "data": {
      "text/plain": [
       "array([0.8502+0.j, 0.4518+0.j, 0.2701+0.j])"
      ]
     },
     "execution_count": 275,
     "metadata": {},
     "output_type": "execute_result"
    }
   ],
   "source": [
    "eig_animal"
   ]
  },
  {
   "cell_type": "code",
   "execution_count": 276,
   "id": "a26ebfda-a847-46f6-b125-414d1c0f64d4",
   "metadata": {},
   "outputs": [
    {
     "data": {
      "text/plain": [
       "array([0.54080529, 0.2873863 , 0.17180841])"
      ]
     },
     "execution_count": 276,
     "metadata": {},
     "output_type": "execute_result"
    }
   ],
   "source": [
    "(eig_animal / sum(eig_animal)).real"
   ]
  },
  {
   "cell_type": "markdown",
   "id": "ab6c12ea-70cf-4d4f-9bbf-fbf997c62311",
   "metadata": {},
   "source": [
    "## Question 6"
   ]
  },
  {
   "cell_type": "code",
   "execution_count": 293,
   "id": "dd08c6b8-6580-4e14-9653-cc62cbf874d8",
   "metadata": {},
   "outputs": [
    {
     "name": "stdout",
     "output_type": "stream",
     "text": [
      "n = 1 (1696, 485, 82)\n",
      "n = 2 [33454.     955.     142.24]\n",
      "n = 3 [427131.44    10914.8       267.2008]\n",
      "n = 4 [5410965.2848    138181.048       2143.688536]\n",
      "n = 5 [68537152.796816    1750416.1496        26308.85995912]\n",
      "n = 6 [8.68114507e+08 2.21715287e+07 3.32701843e+05]\n",
      "n = 7 [1.09958300e+10 2.80832158e+08 4.21378540e+06]\n",
      "n = 8 [1.39276879e+11 3.55711460e+09 5.33730247e+07]\n",
      "n = 9 [1.76412777e+12 4.50556092e+10 6.76040554e+08]\n",
      "n = 10 [2.23450353e+13 5.70689491e+11 8.56295683e+09]\n"
     ]
    }
   ],
   "source": [
    "trees_matrix = ([12, 26, 6], [0.3, 0.92, 0], [0, 0.18, 0.67])\n",
    "trees_0 = (1696, 485, 82)\n",
    "\n",
    "for i in range(10):\n",
    "    print(f\"n = {i + 1} {trees_0}\")\n",
    "    trees_0 = np.dot(trees_matrix, trees_0)"
   ]
  },
  {
   "cell_type": "markdown",
   "id": "a7d3965a-f8f9-4110-80ff-6ea0e80ae29d",
   "metadata": {},
   "source": [
    "## Bobcat model"
   ]
  },
  {
   "cell_type": "code",
   "execution_count": 289,
   "id": "64b1f17b-2bec-48d1-95a3-084fc174848d",
   "metadata": {},
   "outputs": [],
   "source": [
    "bc_mat = np.diagflat(v = list((0.71,) * 15), k = -1 )\n",
    "bc_mat[[0]] = [0.63, 0.63, 1.2, 1.2, 1.2, 1.2, 1.2, 1.2, 1.2, 1.2, 1.2, 1.2, 1.2, 1.2, 1.2, 1.2]\n",
    "bc_mat[1][0] = 0.34"
   ]
  },
  {
   "cell_type": "code",
   "execution_count": 11,
   "id": "33097b04-8474-4824-bcbb-7df6973dc5f9",
   "metadata": {
    "collapsed": true,
    "jupyter": {
     "outputs_hidden": true
    },
    "tags": []
   },
   "outputs": [
    {
     "name": "stdout",
     "output_type": "stream",
     "text": [
      "E-value: [ 1.24144022+0.j          0.63891407+0.29119587j  0.63891407-0.29119587j\n",
      "  0.46798969+0.51244451j  0.46798969-0.51244451j  0.23986627+0.64623213j\n",
      "  0.23986627-0.64623213j -0.01274413+0.68116868j -0.01274413-0.68116868j\n",
      " -0.25762247+0.61653209j -0.25762247-0.61653209j -0.46212066+0.46514502j\n",
      " -0.46212066-0.46514502j -0.64489783+0.j         -0.59755397+0.24965983j\n",
      " -0.59755397-0.24965983j]\n",
      "E-vector [[ 9.48531203e-01+0.j          4.41550858e-01+0.j\n",
      "   4.41550858e-01-0.j         -4.06483065e-01+0.j\n",
      "  -4.06483065e-01-0.j          3.86251581e-01+0.j\n",
      "   3.86251581e-01-0.j          3.51577208e-01+0.j\n",
      "   3.51577208e-01-0.j         -1.00542234e-01-0.27880184j\n",
      "  -1.00542234e-01+0.27880184j -1.82879351e-01-0.16580673j\n",
      "  -1.82879351e-01+0.16580673j -2.07803704e-01+0.j\n",
      "  -2.04340970e-01-0.07385038j -2.04340970e-01+0.07385038j]\n",
      " [ 2.59779410e-01+0.j          1.94558273e-01-0.08867322j\n",
      "   1.94558273e-01+0.08867322j -1.34294679e-01+0.14705147j\n",
      "  -1.34294679e-01-0.14705147j  6.62957960e-02-0.17860983j\n",
      "   6.62957960e-02+0.17860983j -3.28207465e-03-0.1754256j\n",
      "  -3.28207465e-03+0.1754256j  -1.11171628e-01+0.10190008j\n",
      "  -1.11171628e-01-0.10190008j  5.84294340e-03+0.12787159j\n",
      "   5.84294340e-03-0.12787159j  1.09557292e-01+0.j\n",
      "   8.40410395e-02+0.07713245j  8.40410395e-02-0.07713245j]\n",
      " [ 1.48572100e-01+0.j          1.41832223e-01-0.16318148j\n",
      "   1.41832223e-01+0.16318148j  1.84382311e-02+0.20290612j\n",
      "   1.84382311e-02-0.20290612j -1.48710612e-01-0.12803553j\n",
      "  -1.48710612e-01+0.12803553j -1.82722742e-01+0.00683959j\n",
      "  -1.82722742e-01-0.00683959j  1.45448770e-01+0.0672487j\n",
      "   1.45448770e-01-0.0672487j   9.37693094e-02-0.10207833j\n",
      "   9.37693094e-02+0.10207833j -1.20617056e-01+0.j\n",
      "  -5.24156164e-02-0.11354642j -5.24156164e-02+0.11354642j]\n",
      " [ 8.49708177e-02+0.j          6.20714090e-02-0.20962723j\n",
      "   6.20714090e-02+0.20962723j  1.66006458e-01+0.12605885j\n",
      "   1.66006458e-01-0.12605885j -1.76937240e-01+0.09770987j\n",
      "  -1.76937240e-01-0.09770987j  1.06886388e-02+0.19025673j\n",
      "   1.06886388e-02-0.19025673j  6.34512742e-03-0.17015055j\n",
      "   6.34512742e-03+0.17015055j -1.49978142e-01+0.00587298j\n",
      "  -1.49978142e-01-0.00587298j  1.32793298e-01+0.j\n",
      "   5.03327269e-03+0.13701618j  5.03327269e-03-0.13701618j]\n",
      " [ 4.85962026e-02+0.j         -3.07964529e-02-0.21891447j\n",
      "  -3.07964529e-02+0.21891447j  2.09761692e-01-0.03843982j\n",
      "   2.09761692e-01+0.03843982j  3.09341333e-02+0.2058788j\n",
      "   3.09341333e-02-0.2058788j   1.98031831e-01-0.01484607j\n",
      "   1.98031831e-01+0.01484607j -1.69417955e-01+0.06348547j\n",
      "  -1.69417955e-01-0.06348547j  1.18972823e-01+0.11072822j\n",
      "   1.18972823e-01-0.11072822j -1.46198728e-01+0.j\n",
      "   5.28178483e-02-0.14073205j  5.28178483e-02+0.14073205j]\n",
      " [ 2.77929643e-02+0.j         -1.20141537e-01-0.18851448j\n",
      "  -1.20141537e-01+0.18851448j  1.15678398e-01-0.18498491j\n",
      "   1.15678398e-01+0.18498491j  2.09891959e-01+0.04392039j\n",
      "   2.09891959e-01-0.04392039j -1.93295197e-02-0.20605214j\n",
      "  -1.93295197e-02+0.20605214j  1.31648467e-01+0.14009189j\n",
      "   1.31648467e-01-0.14009189j -5.73911563e-03-0.17589899j\n",
      "  -5.73911563e-03+0.17589899j  1.60957430e-01+0.j\n",
      "  -1.12910197e-01+0.12004039j -1.12910197e-01-0.12004039j]\n",
      " [ 1.58952515e-02+0.j         -1.89601818e-01-0.12307447j\n",
      "  -1.89601818e-01+0.12307447j -5.99387512e-02-0.21501329j\n",
      "  -5.99387512e-02+0.21501329j  1.17641194e-01-0.18693768j\n",
      "   1.17641194e-01+0.18693768j -2.14321583e-01+0.02415745j\n",
      "  -2.14321583e-01-0.02415745j  8.34154662e-02-0.18646249j\n",
      "   8.34154662e-02+0.18646249j -1.30742300e-01+0.13865244j\n",
      "  -1.30742300e-01-0.13865244j -1.77206017e-01+0.j\n",
      "   1.64953993e-01-0.07371099j  1.64953993e-01+0.07371099j]\n",
      " [ 9.09075474e-03+0.j         -2.26071009e-01-0.03373213j\n",
      "  -2.26071009e-01+0.03373213j -2.03784681e-01-0.10306017j\n",
      "  -2.03784681e-01+0.10306017j -1.38348964e-01-0.18060151j\n",
      "  -1.38348964e-01+0.18060151j  2.93491821e-02+0.22284391j\n",
      "   2.93491821e-02-0.22284391j -2.16984218e-01-0.00539302j\n",
      "  -2.16984218e-01+0.00539302j  2.06290980e-01-0.00538389j\n",
      "   2.06290980e-01+0.00538389j  1.95094893e-01+0.j\n",
      "  -1.98020203e-01+0.00484829j -1.98020203e-01-0.00484829j]\n",
      " [ 5.19915155e-03+0.j         -2.22160382e-01+0.06376816j\n",
      "  -2.22160382e-01-0.06376816j -2.18451085e-01+0.08284657j\n",
      "  -2.18451085e-01-0.08284657j -2.23983117e-01+0.06886344j\n",
      "  -2.23983117e-01-0.06886344j  2.31622643e-01-0.0349249j\n",
      "   2.31622643e-01+0.0349249j   8.36054964e-02+0.21494443j\n",
      "   8.36054964e-02-0.21494443j -1.61574318e-01-0.15435996j\n",
      "  -1.61574318e-01+0.15435996j -2.14789643e-01+0.j\n",
      "   2.02365169e-01+0.07878815j  2.02365169e-01-0.07878815j]\n",
      " [ 2.97347994e-03+0.j         -1.77673991e-01+0.15184095j\n",
      "  -1.77673991e-01-0.15184095j -8.81262218e-02+0.22218622j\n",
      "  -8.81262218e-02-0.22218622j -1.37833827e-02+0.2409689j\n",
      "  -1.37833827e-02-0.2409689j  -4.09057186e-02-0.24066105j\n",
      "  -4.09057186e-02+0.24066105j  1.76484167e-01-0.17002552j\n",
      "   1.76484167e-01+0.17002552j  4.73492289e-03+0.24192382j\n",
      "   4.73492289e-03-0.24192382j  2.36472570e-01+0.j\n",
      "  -1.71411824e-01-0.16523065j -1.71411824e-01+0.16523065j]\n",
      " [ 1.70058188e-03+0.j         -9.98062413e-02+0.21422324j\n",
      "  -9.98062413e-02-0.21422324j  1.07051184e-01+0.21986472j\n",
      "   1.07051184e-01-0.21986472j  2.27748546e-01+0.09967842j\n",
      "   2.27748546e-01-0.09967842j -2.49962125e-01+0.0473137j\n",
      "  -2.49962125e-01-0.0473137j  -2.38997005e-01-0.10337298j\n",
      "  -2.38997005e-01+0.10337298j  1.82227724e-01-0.1882703j\n",
      "   1.82227724e-01+0.1882703j  -2.60344380e-01+0.j\n",
      "   1.03564940e-01+0.23959303j  1.03564940e-01-0.23959303j]\n",
      " [ 9.72590636e-04+0.j         -1.99703275e-03+0.23896802j\n",
      "  -1.99703275e-03-0.23896802j  2.39953287e-01+0.07081611j\n",
      "   2.39953287e-01-0.07081611j  1.77883487e-01-0.18419576j\n",
      "   1.77883487e-01+0.18419576j  5.41718851e-02+0.25952857j\n",
      "   5.41718851e-02-0.25952857j -3.43765861e-03+0.27666604j\n",
      "  -3.43765861e-03-0.27666604j -2.83699478e-01+0.00370144j\n",
      "  -2.83699478e-01-0.00370144j  2.86626039e-01+0.j\n",
      "  -3.50240082e-03-0.28614229j -3.50240082e-03+0.28614229j]\n",
      " [ 5.56240517e-04+0.j          9.83770597e-02+0.22071873j\n",
      "   9.83770597e-02-0.22071873j  2.19045548e-01-0.13241585j\n",
      "   2.19045548e-01+0.13241585j -1.14109072e-01-0.23779101j\n",
      "  -1.14109072e-01+0.23779101j  2.69362745e-01-0.06150434j\n",
      "   2.69362745e-01+0.06150434j  2.72656452e-01-0.10997269j\n",
      "   2.72656452e-01+0.10997269j  2.19359018e-01+0.21510774j\n",
      "   2.19359018e-01-0.21510774j -3.15560821e-01+0.j\n",
      "  -1.17394171e-01+0.29094011j -1.17394171e-01-0.29094011j]\n",
      " [ 3.18123063e-04+0.j          1.83081010e-01+0.16183375j\n",
      "   1.83081010e-01-0.16183375j  5.10891832e-02-0.25683391j\n",
      "   5.10891832e-02+0.25683391j -2.70519379e-01+0.02495847j\n",
      "  -2.70519379e-01-0.02495847j -6.93361913e-02-0.27946663j\n",
      "  -6.93361913e-02+0.27946663j -2.19519513e-01-0.22226405j\n",
      "  -2.19519513e-01+0.22226405j -2.17011975e-03-0.33267484j\n",
      "  -2.17011975e-03+0.33267484j  3.47416558e-01+0.j\n",
      "   2.41720207e-01-0.24469698j  2.41720207e-01+0.24469698j]\n",
      " [ 1.81939791e-04+0.j          2.36325275e-01+0.07213024j\n",
      "   2.36325275e-01-0.07213024j -1.58778242e-01-0.21578903j\n",
      "  -1.58778242e-01+0.21578903j -7.28593460e-02+0.27016957j\n",
      "  -7.28593460e-02-0.27016957j -2.89841823e-01+0.07769364j\n",
      "  -2.89841823e-01-0.07769364j -1.27979939e-01+0.30627662j\n",
      "  -1.27979939e-01-0.30627662j -2.53898385e-01+0.25556003j\n",
      "  -2.53898385e-01-0.25556003j -3.82488119e-01+0.j\n",
      "  -3.47943163e-01+0.14537169j -3.47943163e-01-0.14537169j]\n",
      " [ 1.04054347e-04+0.j          2.47698406e-01-0.03273724j\n",
      "   2.47698406e-01+0.03273724j -2.72561588e-01-0.02892696j\n",
      "  -2.72561588e-01+0.02892696j  2.34771690e-01+0.16719061j\n",
      "   2.34771690e-01-0.16719061j  8.66040457e-02+0.30048945j\n",
      "   8.66040457e-02-0.30048945j  3.52708969e-01+0.j\n",
      "   3.52708969e-01-0.j          3.90088279e-01+0.j\n",
      "   3.90088279e-01-0.j          4.21100139e-01+0.j\n",
      "   4.13418135e-01+0.j          4.13418135e-01-0.j        ]]\n"
     ]
    }
   ],
   "source": [
    "# eigenvalues and eigenvectors\n",
    "w,v=eig(bc_mat)\n",
    "print('E-value:', w)\n",
    "print('E-vector', v)\n"
   ]
  },
  {
   "cell_type": "code",
   "execution_count": 12,
   "id": "baaa2eeb-5df1-4734-8321-ccef3d159e56",
   "metadata": {},
   "outputs": [
    {
     "data": {
      "text/plain": [
       "array([ 1.241+0.j   ,  0.639+0.291j,  0.639-0.291j,  0.468+0.512j,\n",
       "        0.468-0.512j,  0.24 +0.646j,  0.24 -0.646j, -0.013+0.681j,\n",
       "       -0.013-0.681j, -0.258+0.617j, -0.258-0.617j, -0.462+0.465j,\n",
       "       -0.462-0.465j, -0.645+0.j   , -0.598+0.25j , -0.598-0.25j ])"
      ]
     },
     "execution_count": 12,
     "metadata": {},
     "output_type": "execute_result"
    }
   ],
   "source": [
    "# all eigenvalues\n",
    "np.around(w, 3)"
   ]
  },
  {
   "cell_type": "code",
   "execution_count": 13,
   "id": "a1ebacdf-170a-435e-9938-c438387b6ccd",
   "metadata": {},
   "outputs": [
    {
     "name": "stdout",
     "output_type": "stream",
     "text": [
      "1.241\n",
      "0.702\n",
      "0.702\n",
      "0.694\n",
      "0.694\n",
      "0.689\n",
      "0.689\n",
      "0.681\n",
      "0.681\n",
      "0.669\n",
      "0.669\n",
      "0.655\n",
      "0.655\n",
      "0.645\n",
      "0.648\n",
      "0.648\n"
     ]
    }
   ],
   "source": [
    "# normalized eigenvalues. moduli. \n",
    "for i in np.around(w,3):\n",
    "    print(round(np.linalg.norm(i), 3))"
   ]
  },
  {
   "cell_type": "code",
   "execution_count": 44,
   "id": "c7a49767-353a-49a2-a1f4-85e92b41569a",
   "metadata": {},
   "outputs": [
    {
     "data": {
      "text/plain": [
       "array([0.9485, 0.2598, 0.1486, 0.085 , 0.0486, 0.0278, 0.0159, 0.0091,\n",
       "       0.0052, 0.003 , 0.0017, 0.001 , 0.0006, 0.0003, 0.0002, 0.0001])"
      ]
     },
     "execution_count": 44,
     "metadata": {},
     "output_type": "execute_result"
    }
   ],
   "source": [
    "# first eigenvector corresponding to lambda = 1.241\n",
    "np.set_printoptions(suppress=True)\n",
    "dom_ev = np.around(v[:, 0], 4).real\n",
    "dom_ev"
   ]
  },
  {
   "cell_type": "code",
   "execution_count": 45,
   "id": "744f7b03-d9b2-4f4e-916c-78603de28dc6",
   "metadata": {},
   "outputs": [
    {
     "data": {
      "text/plain": [
       "array([0.60981098, 0.16703099, 0.09553813, 0.05464832, 0.03124598,\n",
       "       0.01787322, 0.01022245, 0.00585059, 0.00334319, 0.00192876,\n",
       "       0.00109297, 0.00064292, 0.00038575, 0.00019288, 0.00012858,\n",
       "       0.00006429])"
      ]
     },
     "execution_count": 45,
     "metadata": {},
     "output_type": "execute_result"
    }
   ],
   "source": [
    "dom_ev / sum(dom_ev)"
   ]
  },
  {
   "cell_type": "markdown",
   "id": "2efc1599-424c-419f-9c79-64728eeeb1f6",
   "metadata": {},
   "source": [
    "## Bobcat Model over 10 years"
   ]
  },
  {
   "cell_type": "code",
   "execution_count": 290,
   "id": "78e025db-9def-4cd5-a328-2545e7747c72",
   "metadata": {
    "collapsed": true,
    "jupyter": {
     "outputs_hidden": true
    },
    "tags": []
   },
   "outputs": [
    {
     "data": {
      "text/plain": [
       "array([[ 225.        ,    0.        ,   71.        ,   35.5       ,\n",
       "          35.5       ,   17.75      ,    7.1       ,    0.        ,\n",
       "           0.        ,    0.        ,    0.        ,    0.        ,\n",
       "           0.        ,    0.        ,    0.        ,    0.        ],\n",
       "       [ 341.97      ,   76.5       ,    0.        ,   50.41      ,\n",
       "          25.205     ,   25.205     ,   12.6025    ,    5.041     ,\n",
       "           0.        ,    0.        ,    0.        ,    0.        ,\n",
       "           0.        ,    0.        ,    0.        ,    0.        ],\n",
       "       [ 405.7923    ,  116.2698    ,   54.315     ,    0.        ,\n",
       "          35.7911    ,   17.89555   ,   17.89555   ,    8.947775  ,\n",
       "           3.57911   ,    0.        ,    0.        ,    0.        ,\n",
       "           0.        ,    0.        ,    0.        ,    0.        ],\n",
       "       [ 495.008025  ,  137.969382  ,   82.551558  ,   38.56365   ,\n",
       "           0.        ,   25.411681  ,   12.7058405 ,   12.7058405 ,\n",
       "           6.35292025,    2.5411681 ,    0.        ,    0.        ,\n",
       "           0.        ,    0.        ,    0.        ,    0.        ],\n",
       "       [ 615.77495643,  168.3027285 ,   97.95826122,   58.61160618,\n",
       "          27.3801915 ,    0.        ,   18.04229351,    9.02114675,\n",
       "           9.02114675,    4.51057338,    1.80422935,    0.        ,\n",
       "           0.        ,    0.        ,    0.        ,    0.        ],\n",
       "       [ 765.58827988,  209.36348519,  119.49493724,   69.55036547,\n",
       "          41.61424039,   19.43993596,    0.        ,   12.81002839,\n",
       "           6.4050142 ,    6.4050142 ,    3.2025071 ,    1.28100284,\n",
       "           0.        ,    0.        ,    0.        ,    0.        ],\n",
       "       [ 950.46326692,  260.30001516,  148.64807448,   84.84140544,\n",
       "          49.38075948,   29.54611068,   13.80235454,    0.        ,\n",
       "           9.09512016,    4.54756008,    4.54756008,    2.27378004,\n",
       "           0.90951202,    0.        ,    0.        ,    0.        ],\n",
       "       [1179.89155209,  323.15751075,  184.81301076,  105.54013288,\n",
       "          60.23739786,   35.06033923,   20.97773858,    9.79967172,\n",
       "           0.        ,    6.45753531,    3.22876766,    3.22876766,\n",
       "           1.61438383,    0.64575353,    0.        ,    0.        ],\n",
       "       [1464.84510842,  401.16312771,  229.44183264,  131.21723764,\n",
       "          74.93349435,   42.76855248,   24.89284085,   14.89419439,\n",
       "           6.95776692,    0.        ,    4.58485007,    2.29242504,\n",
       "           2.29242504,    1.14621252,    0.45848501,    0.        ],\n",
       "       [1818.64156909,  498.04733686,  284.82582068,  162.90370117,\n",
       "          93.16423873,   53.20278099,   30.36567226,   17.67391701,\n",
       "          10.57487802,    4.94001451,    0.        ,    3.25524355,\n",
       "           1.62762178,    1.62762178,    0.81381089,    0.32552436]])"
      ]
     },
     "execution_count": 290,
     "metadata": {},
     "output_type": "execute_result"
    }
   ],
   "source": [
    "# starting state\n",
    "bc_0 = (0, 100, 50, 50, 25, 10, 0, 0, 0, 0, 0, 0, 0, 0, 0, 0)\n",
    "res = np.zeros((10,16))\n",
    "\n",
    "for i in range (10):\n",
    "    bc_0 = np.dot(bc_mat, bc_0)\n",
    "    res[i, :] = bc_0\n",
    "    \n",
    "res"
   ]
  },
  {
   "cell_type": "code",
   "execution_count": 291,
   "id": "0077c34d-797f-412d-920d-04289444c737",
   "metadata": {},
   "outputs": [
    {
     "data": {
      "text/plain": [
       "array([0.60987519, 0.16701846, 0.09551536, 0.0546292 , 0.03124231,\n",
       "       0.01784137, 0.01018302, 0.00592689, 0.00354625, 0.00165662,\n",
       "       0.        , 0.00109163, 0.00054582, 0.00054582, 0.00027291,\n",
       "       0.00010916])"
      ]
     },
     "execution_count": 291,
     "metadata": {},
     "output_type": "execute_result"
    }
   ],
   "source": [
    "bc_0 / sum(bc_0)"
   ]
  },
  {
   "cell_type": "code",
   "execution_count": 77,
   "id": "f8f00f1c-e98f-4b87-9c4e-52f4b0d190f5",
   "metadata": {},
   "outputs": [
    {
     "data": {
      "image/png": "[encoded data removed]",
      "text/plain": [
       "<Figure size 432x288 with 1 Axes>"
      ]
     },
     "metadata": {
      "needs_background": "light"
     },
     "output_type": "display_data"
    }
   ],
   "source": [
    "for i in range(16):\n",
    "     plt.plot(res[:, i]) "
   ]
  },
  {
   "cell_type": "markdown",
   "id": "4d54f3b6-2ec6-4b57-968a-1854b89fdd74",
   "metadata": {},
   "source": [
    "## Using the worst case data"
   ]
  },
  {
   "cell_type": "code",
   "execution_count": 82,
   "id": "b2f9d9f8-cf4b-4497-8370-1328436754e9",
   "metadata": {
    "tags": []
   },
   "outputs": [
    {
     "data": {
      "text/plain": [
       "array([[0.6 , 0.6 , 1.15, 1.15, 1.15, 1.15, 1.15, 1.15, 1.15, 1.15, 1.15,\n",
       "        1.15, 1.15, 1.15, 1.15, 1.15],\n",
       "       [0.32, 0.  , 0.  , 0.  , 0.  , 0.  , 0.  , 0.  , 0.  , 0.  , 0.  ,\n",
       "        0.  , 0.  , 0.  , 0.  , 0.  ],\n",
       "       [0.  , 0.68, 0.  , 0.  , 0.  , 0.  , 0.  , 0.  , 0.  , 0.  , 0.  ,\n",
       "        0.  , 0.  , 0.  , 0.  , 0.  ],\n",
       "       [0.  , 0.  , 0.68, 0.  , 0.  , 0.  , 0.  , 0.  , 0.  , 0.  , 0.  ,\n",
       "        0.  , 0.  , 0.  , 0.  , 0.  ],\n",
       "       [0.  , 0.  , 0.  , 0.68, 0.  , 0.  , 0.  , 0.  , 0.  , 0.  , 0.  ,\n",
       "        0.  , 0.  , 0.  , 0.  , 0.  ],\n",
       "       [0.  , 0.  , 0.  , 0.  , 0.68, 0.  , 0.  , 0.  , 0.  , 0.  , 0.  ,\n",
       "        0.  , 0.  , 0.  , 0.  , 0.  ],\n",
       "       [0.  , 0.  , 0.  , 0.  , 0.  , 0.68, 0.  , 0.  , 0.  , 0.  , 0.  ,\n",
       "        0.  , 0.  , 0.  , 0.  , 0.  ],\n",
       "       [0.  , 0.  , 0.  , 0.  , 0.  , 0.  , 0.68, 0.  , 0.  , 0.  , 0.  ,\n",
       "        0.  , 0.  , 0.  , 0.  , 0.  ],\n",
       "       [0.  , 0.  , 0.  , 0.  , 0.  , 0.  , 0.  , 0.68, 0.  , 0.  , 0.  ,\n",
       "        0.  , 0.  , 0.  , 0.  , 0.  ],\n",
       "       [0.  , 0.  , 0.  , 0.  , 0.  , 0.  , 0.  , 0.  , 0.68, 0.  , 0.  ,\n",
       "        0.  , 0.  , 0.  , 0.  , 0.  ],\n",
       "       [0.  , 0.  , 0.  , 0.  , 0.  , 0.  , 0.  , 0.  , 0.  , 0.68, 0.  ,\n",
       "        0.  , 0.  , 0.  , 0.  , 0.  ],\n",
       "       [0.  , 0.  , 0.  , 0.  , 0.  , 0.  , 0.  , 0.  , 0.  , 0.  , 0.68,\n",
       "        0.  , 0.  , 0.  , 0.  , 0.  ],\n",
       "       [0.  , 0.  , 0.  , 0.  , 0.  , 0.  , 0.  , 0.  , 0.  , 0.  , 0.  ,\n",
       "        0.68, 0.  , 0.  , 0.  , 0.  ],\n",
       "       [0.  , 0.  , 0.  , 0.  , 0.  , 0.  , 0.  , 0.  , 0.  , 0.  , 0.  ,\n",
       "        0.  , 0.68, 0.  , 0.  , 0.  ],\n",
       "       [0.  , 0.  , 0.  , 0.  , 0.  , 0.  , 0.  , 0.  , 0.  , 0.  , 0.  ,\n",
       "        0.  , 0.  , 0.68, 0.  , 0.  ],\n",
       "       [0.  , 0.  , 0.  , 0.  , 0.  , 0.  , 0.  , 0.  , 0.  , 0.  , 0.  ,\n",
       "        0.  , 0.  , 0.  , 0.68, 0.  ]])"
      ]
     },
     "execution_count": 82,
     "metadata": {},
     "output_type": "execute_result"
    }
   ],
   "source": [
    "bc_mat = np.diagflat(v = list((0.68,) * 15), k = -1 )\n",
    "bc_mat[[0]] = [0.6, 0.6, 1.15, 1.15, 1.15, 1.15, 1.15, 1.15, 1.15, 1.15, 1.15, 1.15, 1.15, 1.15, 1.15, 1.15]\n",
    "bc_mat[1][0] = 0.32\n",
    "bc_mat"
   ]
  },
  {
   "cell_type": "code",
   "execution_count": 83,
   "id": "838c9efd-97ee-40a4-af6a-2968d3c2c53e",
   "metadata": {
    "collapsed": true,
    "jupyter": {
     "outputs_hidden": true
    },
    "tags": []
   },
   "outputs": [
    {
     "name": "stdout",
     "output_type": "stream",
     "text": [
      "E-value: [ 1.18285182+0.j          0.6117292 +0.27890757j  0.6117292 -0.27890757j\n",
      "  0.44802335+0.49054862j  0.44802335-0.49054862j  0.22969649+0.61845887j\n",
      "  0.22969649-0.61845887j -0.01206036+0.65179318j -0.01206036-0.65179318j\n",
      " -0.24642711+0.5899047j  -0.24642711-0.5899047j  -0.4421333 +0.44504919j\n",
      " -0.4421333 -0.44504919j -0.61703866+0.j         -0.57173484+0.23887342j\n",
      " -0.57173484-0.23887342j]\n",
      "E-vector [[ 0.9494508 +0.j          0.44703755+0.j          0.44703755-0.j\n",
      "   0.41102218+0.j          0.41102218-0.j          0.38995667+0.j\n",
      "   0.38995667-0.j          0.35428039+0.j          0.35428039-0.j\n",
      "  -0.10161328-0.28046002j -0.10161328+0.28046002j -0.18406689-0.16675723j\n",
      "  -0.18406689+0.16675723j  0.20908004+0.j         -0.20559484-0.07429886j\n",
      "  -0.20559484+0.07429886j]\n",
      " [ 0.25685741+0.j          0.19360332-0.08827015j  0.19360332+0.08827015j\n",
      "   0.13351194-0.14618456j  0.13351194+0.14618456j  0.06585368-0.17731135j\n",
      "   0.06585368+0.17731135j -0.00321728-0.17387559j -0.00321728+0.17387559j\n",
      "  -0.10992877+0.10104289j -0.10992877-0.10104289j  0.00582751+0.12655875j\n",
      "   0.00582751-0.12655875j -0.10843018+0.j          0.08317749+0.076337j\n",
      "   0.08317749-0.076337j  ]\n",
      " [ 0.14766266+0.j          0.14113485-0.16246941j  0.14113485+0.16246941j\n",
      "  -0.01832514-0.2018112j  -0.01832514+0.2018112j  -0.14769087-0.1272592j\n",
      "  -0.14769087+0.1272592j  -0.18127601+0.00671073j -0.18127601-0.00671073j\n",
      "   0.14423947+0.06646336j  0.14423947-0.06646336j  0.09286954-0.10116505j\n",
      "   0.09286954+0.10116505j  0.11949417+0.j         -0.05192982-0.11248889j\n",
      "  -0.05192982+0.11248889j]\n",
      " [ 0.08488858+0.j          0.06171477-0.20873928j  0.06171477+0.20873928j\n",
      "  -0.16517393-0.12545277j -0.16517393+0.12545277j -0.17596131+0.0970349j\n",
      "  -0.17596131-0.0970349j   0.01049692+0.18892664j  0.01049692-0.18892664j\n",
      "   0.00609356-0.16881448j  0.00609356+0.16881448j -0.14874126+0.0058694j\n",
      "  -0.14874126-0.0058694j  -0.1316871 +0.j          0.00499359+0.13587641j\n",
      "   0.00499359-0.13587641j]\n",
      " [ 0.0488009 +0.j         -0.03078978-0.21799713j -0.03078978+0.21799713j\n",
      "  -0.20882788+0.03823985j -0.20882788-0.03823985j  0.0306126 +0.20484029j\n",
      "   0.0306126 -0.20484029j  0.19683255-0.01459324j  0.19683255+0.01459324j\n",
      "  -0.16818252+0.06323244j -0.16818252-0.06323244j  0.11814346+0.10989549j\n",
      "   0.11814346-0.10989549j  0.14512418+0.j          0.05242868-0.13970138j\n",
      "   0.05242868+0.13970138j]\n",
      " [ 0.02805475+0.j         -0.11980591-0.18770278j -0.11980591+0.18770278j\n",
      "  -0.11524499+0.18422336j -0.11524499-0.18422336j  0.20890777+0.04392986j\n",
      "   0.20890777-0.04392986j -0.01901794-0.20499873j -0.01901794+0.20499873j\n",
      "   0.13101384+0.139139j    0.13101384-0.139139j   -0.00574731-0.17480422j\n",
      "  -0.00574731+0.17480422j -0.15993235+0.j         -0.11219281+0.11928091j\n",
      "  -0.11219281-0.11928091j]\n",
      " [ 0.01612816+0.j         -0.18901583-0.12247241j -0.18901583+0.12247241j\n",
      "   0.05968307+0.21426214j  0.05968307-0.21426214j  0.11741444-0.18608772j\n",
      "   0.11741444+0.18608772j -0.21343   +0.02379013j -0.21343   -0.02379013j\n",
      "   0.08284403-0.1856307j   0.08284403+0.1856307j  -0.13003072+0.13796021j\n",
      "  -0.13003072-0.13796021j  0.17625151+0.j          0.16407082-0.07331871j\n",
      "   0.16407082+0.07331871j]\n",
      " [ 0.00927179+0.j         -0.22533922-0.03340109j -0.22533922+0.03340109j\n",
      "   0.20313189+0.1027897j   0.20313189-0.1027897j  -0.13766784-0.18022806j\n",
      "  -0.13766784+0.18022806j  0.02892983+0.22213104j  0.02892983-0.22213104j\n",
      "  -0.21615419-0.00520031j -0.21615419+0.00520031j  0.20542514-0.00540256j\n",
      "   0.20542514+0.00540256j -0.19423584+0.j         -0.19715738+0.00482928j\n",
      "  -0.19715738-0.00482928j]\n",
      " [ 0.00533018+0.j         -0.22139375+0.06381198j -0.22139375-0.06381198j\n",
      "   0.21790052-0.08257115j  0.21790052+0.08257115j -0.2235444 +0.06834208j\n",
      "  -0.2235444 -0.06834208j  0.23110633-0.03445804j  0.23110633+0.03445804j\n",
      "   0.08351815+0.21427819j  0.08351815-0.21427819j -0.16108777-0.15384103j\n",
      "  -0.16108777+0.15384103j  0.21405526+0.j          0.20168509+0.07852119j\n",
      "   0.20168509-0.07852119j]\n",
      " [ 0.00306423+0.j         -0.17697277+0.15162133j -0.17697277-0.15162133j\n",
      "   0.08800278-0.22168048j  0.08800278+0.22168048j -0.01418675+0.24051971j\n",
      "  -0.01418675-0.24051971j -0.0403967 -0.24036015j -0.0403967 +0.24036015j\n",
      "   0.1760629 -0.16982237j  0.1760629 +0.16982237j  0.00476102+0.24139957j\n",
      "   0.00476102-0.24139957j -0.23589702+0.j         -0.1710068 -0.16483758j\n",
      "  -0.1710068 +0.16483758j]\n",
      " [ 0.00176157+0.j         -0.09924807+0.2137932j  -0.09924807-0.2137932j\n",
      "  -0.10679664-0.21952825j -0.10679664+0.21952825j  0.22730558+0.10002004j\n",
      "   0.22730558-0.10002004j -0.24989653+0.04676883j -0.24989653-0.04676883j\n",
      "  -0.23885821-0.10317198j -0.23885821+0.10317198j  0.18199483-0.18807689j\n",
      "   0.18199483+0.18807689j  0.25996745+0.j          0.10342405+0.23926268j\n",
      "   0.10342405-0.23926268j]\n",
      " [ 0.00101269+0.j         -0.0016314 +0.23839696j -0.0016314 -0.23839696j\n",
      "  -0.2396326 -0.07081722j -0.2396326 +0.07081722j  0.17821248-0.18373577j\n",
      "   0.17821248+0.18373577j  0.05359846+0.25971924j  0.05359846-0.25971924j\n",
      "  -0.00332834+0.27672906j -0.00332834-0.27672906j -0.28366164+0.00372942j\n",
      "  -0.28366164-0.00372942j -0.28649399+0.j         -0.0035026 -0.28603347j\n",
      "  -0.0035026 +0.28603347j]\n",
      " [ 0.00058218+0.j          0.09852846+0.22008039j  0.09852846-0.22008039j\n",
      "  -0.21893141+0.13222702j -0.21893141-0.13222702j -0.11357746-0.23812874j\n",
      "  -0.11357746+0.23812874j  0.26983172-0.06091077j  0.26983172+0.06091077j\n",
      "   0.27296234-0.11019077j  0.27296234+0.11019077j  0.21956947+0.21528169j\n",
      "   0.21956947-0.21528169j  0.31572724+0.j         -0.11746536+0.29111993j\n",
      "  -0.11746536-0.29111993j]\n",
      " [ 0.00033468+0.j          0.1830197 +0.16119728j  0.1830197 -0.16119728j\n",
      "  -0.05118547+0.25673515j -0.05118547-0.25673515j -0.27084457+0.02428718j\n",
      "  -0.27084457-0.02428718j -0.06873205-0.28023711j -0.06873205+0.28023711j\n",
      "  -0.22006058-0.22272326j -0.22006058+0.22272326j -0.00219098-0.33330818j\n",
      "  -0.00219098+0.33330818j -0.34794339+0.j          0.24210971-0.2450926j\n",
      "   0.24210971+0.2450926j ]\n",
      " [ 0.0001924 +0.j          0.23606971+0.07155539j  0.23606971-0.07155539j\n",
      "   0.15870382+0.21589937j  0.15870382-0.21589937j -0.07372782+0.27041295j\n",
      "  -0.07372782-0.27041295j -0.29093816+0.07708982j -0.29093816-0.07708982j\n",
      "  -0.12836973+0.30729536j -0.12836973-0.30729536j -0.25463428+0.25631361j\n",
      "  -0.25463428-0.25631361j  0.3834468 +0.j         -0.34885205+0.14575198j\n",
      "  -0.34885205-0.14575198j]\n",
      " [ 0.00011061+0.j          0.24727828-0.03320116j  0.24727828+0.03320116j\n",
      "   0.27271951+0.02908195j  0.27271951-0.02908195j  0.23482244+0.16827765j\n",
      "   0.23482244-0.16827765j  0.08601279+0.30193719j  0.08601279-0.30193719j\n",
      "   0.35422813+0.j          0.35422813-0.j          0.39162694+0.j\n",
      "   0.39162694-0.j         -0.42257291+0.j          0.41491156+0.j\n",
      "   0.41491156-0.j        ]]\n"
     ]
    }
   ],
   "source": [
    "w,v=eig(bc_mat)\n",
    "print('E-value:', w)\n",
    "print('E-vector', v)"
   ]
  },
  {
   "cell_type": "code",
   "execution_count": 86,
   "id": "c9eec7ec-c250-45ee-ad61-0b0e0e722fa2",
   "metadata": {},
   "outputs": [
    {
     "data": {
      "text/plain": [
       "array([ 1.183+0.j   ,  0.612+0.279j,  0.612-0.279j,  0.448+0.491j,\n",
       "        0.448-0.491j,  0.23 +0.618j,  0.23 -0.618j, -0.012+0.652j,\n",
       "       -0.012-0.652j, -0.246+0.59j , -0.246-0.59j , -0.442+0.445j,\n",
       "       -0.442-0.445j, -0.617+0.j   , -0.572+0.239j, -0.572-0.239j])"
      ]
     },
     "execution_count": 86,
     "metadata": {},
     "output_type": "execute_result"
    }
   ],
   "source": [
    "# all eigenvalues\n",
    "np.around(w, 3)"
   ]
  },
  {
   "cell_type": "code",
   "execution_count": 110,
   "id": "65c07745-4f6e-4499-9743-bf84c97fbae8",
   "metadata": {},
   "outputs": [
    {
     "data": {
      "text/plain": [
       "array([1.183, 0.672, 0.672, 0.664, 0.664, 0.66 , 0.66 , 0.652, 0.652,\n",
       "       0.639, 0.639, 0.627, 0.627, 0.617, 0.62 , 0.62 ])"
      ]
     },
     "execution_count": 110,
     "metadata": {},
     "output_type": "execute_result"
    }
   ],
   "source": [
    "# normalized eigenvalues. moduli. \n",
    "# for i in np.around(w,3):\n",
    "#     print(round(np.linalg.norm(i), 3))\n",
    "\n",
    "np.around(abs(w),3)"
   ]
  },
  {
   "cell_type": "code",
   "execution_count": 112,
   "id": "5ec884e0-0ae7-4b81-8759-aa25915a2de0",
   "metadata": {},
   "outputs": [
    {
     "data": {
      "text/plain": [
       "array([0.61116743, 0.16534073, 0.09505138, 0.05464331, 0.03141344,\n",
       "       0.01805902, 0.0103818 , 0.00596831, 0.00343107, 0.00197246,\n",
       "       0.00113393, 0.00065188, 0.00037475, 0.00021544, 0.00012385,\n",
       "       0.0000712 ])"
      ]
     },
     "execution_count": 112,
     "metadata": {},
     "output_type": "execute_result"
    }
   ],
   "source": [
    "# 1.18 is the dominant eigen value. the corresponding eigenvector:\n",
    "dom_ev = np.around(v[:, 0], 10).real\n",
    "dom_ev\n",
    "# print(\"Normalized\")\n",
    "dom_ev / sum(dom_ev)"
   ]
  },
  {
   "cell_type": "code",
   "execution_count": 103,
   "id": "2d1a7d43-21e5-4645-8216-0a6e67f3e4ba",
   "metadata": {
    "tags": []
   },
   "outputs": [],
   "source": [
    "# starting state\n",
    "bc_0 = (0, 100, 50, 50, 25, 10, 0, 0, 0, 0, 0, 0, 0, 0, 0, 0)\n",
    "res = np.zeros((10,16))\n",
    "\n",
    "for i in range (10):\n",
    "    bc_0 = np.dot(bc_mat, bc_0)\n",
    "    res[i, :] = bc_0\n",
    "    "
   ]
  },
  {
   "cell_type": "code",
   "execution_count": 102,
   "id": "998ee754-c39a-485c-9e53-35469e399e8d",
   "metadata": {},
   "outputs": [
    {
     "data": {
      "image/png": "[encoded data removed]",
      "text/plain": [
       "<Figure size 432x288 with 1 Axes>"
      ]
     },
     "metadata": {
      "needs_background": "light"
     },
     "output_type": "display_data"
    }
   ],
   "source": [
    "for i in range(16):\n",
    "    plt.plot(res[:, i])"
   ]
  },
  {
   "cell_type": "code",
   "execution_count": 108,
   "id": "9fbc247f-e21c-42da-af51-f07e6c6d9b44",
   "metadata": {},
   "outputs": [
    {
     "data": {
      "text/plain": [
       "array([0.61114526, 0.16532268, 0.09503549, 0.05463641, 0.03140787,\n",
       "       0.01802827, 0.01034418, 0.00605416, 0.00363864, 0.001702  ,\n",
       "       0.        , 0.00114257, 0.00057129, 0.00057129, 0.00028564,\n",
       "       0.00011426])"
      ]
     },
     "execution_count": 108,
     "metadata": {},
     "output_type": "execute_result"
    }
   ],
   "source": [
    "# comparing the proportion at 10 years\n",
    "res[9, :] / sum(res[9,: ])"
   ]
  },
  {
   "cell_type": "markdown",
   "id": "d88e6754-2ee6-41da-b230-dba4267828e1",
   "metadata": {},
   "source": [
    "## Blood alchol content problem"
   ]
  },
  {
   "cell_type": "code",
   "execution_count": 123,
   "id": "cb960932-f61d-4d1b-8f4b-21a1000a0ba4",
   "metadata": {},
   "outputs": [],
   "source": [
    "blood_liters = 46.3\n",
    "weight = 68\n",
    "\n",
    "x_0 = 13.6 * 6 / 46.3\n",
    "X = []\n",
    "for i in range(360): \n",
    "    X.append(x_0)\n",
    "    total_grams = x_0 * 46.3\n",
    "    total_grams -= 0.2\n",
    "    x_0 = total_grams/46.3\n",
    "    "
   ]
  },
  {
   "cell_type": "code",
   "execution_count": 124,
   "id": "783ccb3f-db88-4b25-a027-c3db19ec2876",
   "metadata": {},
   "outputs": [
    {
     "data": {
      "image/png": "[encoded data removed]",
      "text/plain": [
       "<Figure size 432x288 with 1 Axes>"
      ]
     },
     "metadata": {
      "needs_background": "light"
     },
     "output_type": "display_data"
    }
   ],
   "source": [
    "import matplotlib.pyplot as plt\n",
    "plt.plot(X)\n",
    "plt.axhline(y = 0.8, color = \"red\")\n",
    "plt.show()"
   ]
  },
  {
   "cell_type": "markdown",
   "id": "ddede03f-bad8-49e8-b921-4b3d044205de",
   "metadata": {},
   "source": [
    "#### how many minutes until safe"
   ]
  },
  {
   "cell_type": "code",
   "execution_count": 248,
   "id": "84cd2635-39fb-4a9c-803a-c870632eff0d",
   "metadata": {},
   "outputs": [],
   "source": [
    "x = []\n",
    "for i in BAC:\n",
    "    x.append(i > 0.8)"
   ]
  },
  {
   "cell_type": "code",
   "execution_count": 250,
   "id": "93999f6d-1502-4cce-84d2-7f4cce448daa",
   "metadata": {},
   "outputs": [
    {
     "data": {
      "text/plain": [
       "223"
      ]
     },
     "execution_count": 250,
     "metadata": {},
     "output_type": "execute_result"
    }
   ],
   "source": [
    "sum(x)"
   ]
  },
  {
   "cell_type": "markdown",
   "id": "4546b904-8430-4aa9-95a5-bb3c39bedc79",
   "metadata": {},
   "source": [
    "### consuming alcohol at a constant rate now"
   ]
  },
  {
   "cell_type": "code",
   "execution_count": 128,
   "id": "b1cabcac-9075-43d4-83c7-11daface86b4",
   "metadata": {},
   "outputs": [],
   "source": [
    "# one beer every 30 minutes \n",
    "# rate is in minutes per beer (13.6 grams)"
   ]
  },
  {
   "cell_type": "code",
   "execution_count": 174,
   "id": "d1a1fddd-134f-41be-bc70-3c9dc3a7d794",
   "metadata": {},
   "outputs": [],
   "source": [
    "X1 = []\n",
    "BAC = 0\n",
    "for i in range(360):\n",
    "    X1.append(BAC)\n",
    "    if(i < 180): # if less than three hours, assuming it will take 3 hours to drink 6 beers. \n",
    "        BAC = BAC + 13.6 / blood_liters * (1 / 30)\n",
    "    BAC = BAC - 0.2 / blood_liters"
   ]
  },
  {
   "cell_type": "code",
   "execution_count": 175,
   "id": "14a3762a-c14b-4603-b24e-70e7b59c7730",
   "metadata": {},
   "outputs": [
    {
     "data": {
      "text/plain": [
       "Text(0.5, 1.0, 'Blood Alcohol Concentration vs time for 6 beers in 3 hours')"
      ]
     },
     "execution_count": 175,
     "metadata": {},
     "output_type": "execute_result"
    },
    {
     "data": {
      "image/png": "[encoded data removed]",
      "text/plain": [
       "<Figure size 432x288 with 1 Axes>"
      ]
     },
     "metadata": {
      "needs_background": "light"
     },
     "output_type": "display_data"
    }
   ],
   "source": [
    "plt.plot(X1)\n",
    "plt.axhline(y = 0.8, color = \"red\")\n",
    "plt.ylabel(\"Concentration of Alcohol In Blood\")\n",
    "plt.xlabel(\"time\")\n",
    "plt.title(\"Blood Alcohol Concentration vs time for 6 beers in 3 hours\")"
   ]
  },
  {
   "cell_type": "code",
   "execution_count": 228,
   "id": "52d7fb5f-a72a-40cb-bc49-2e1fd06541ca",
   "metadata": {},
   "outputs": [],
   "source": [
    "def drinking(i, shots, shots_freq, beer, beer_freq):\n",
    "    add_alcohol = 0\n",
    "    if i % shots_freq == 0 and shots > (i / shots_freq):\n",
    "        add_alcohol = float(16.7 / blood_liters)\n",
    "    if beer > (i / beer_freq): \n",
    "        add_alcohol += float(13.6 / blood_liters * (1 / beer_freq))\n",
    "    return add_alcohol"
   ]
  },
  {
   "cell_type": "code",
   "execution_count": null,
   "id": "a68a1bb3-bb18-401d-ab66-6378d1ebd3a3",
   "metadata": {},
   "outputs": [],
   "source": [
    "def simulate_drinking(shots, shots_freq, beer, beer_freq):\n",
    "    X2 = []\n",
    "    BAC = 0\n",
    "    for i in range(360): \n",
    "        alc = drinking(i, shots, shots_freq, beer, beer_freq)\n",
    "        BAC += alc\n",
    "        BAC -= 0.2 / blood_liters\n",
    "        X2.append(BAC)\n",
    "    return X2"
   ]
  },
  {
   "cell_type": "code",
   "execution_count": null,
   "id": "a3b59687-92cc-4ecd-be45-3376ffaff584",
   "metadata": {},
   "outputs": [
    {
     "data": {
      "image/png": "[encoded data removed]",
      "text/plain": [
       "<Figure size 432x288 with 1 Axes>"
      ]
     },
     "metadata": {
      "needs_background": "light"
     },
     "output_type": "display_data"
    },
    {
     "data": {
      "text/plain": [
       "Text(0.5, 1.0, 'Blood Alcohol Concentration vs time')"
      ]
     },
     "execution_count": 253,
     "metadata": {},
     "output_type": "execute_result"
    },
    {
     "data": {
      "image/png": "[encoded data removed]",
      "text/plain": [
       "<Figure size 432x288 with 1 Axes>"
      ]
     },
     "metadata": {
      "needs_background": "light"
     },
     "output_type": "display_data"
    }
   ],
   "source": [
    "plt.plot(simulate_drinking(4, 30, 4, 15))\n",
    "plt.axhline(y = 0.8, color = \"red\")\n",
    "plt.axhline(y = 4.0, color = \"gray\")\n",
    "plt.axhline(y = 5.0, color = \"black\")\n",
    "plt.ylabel(\"Concentration of Alcohol In Blood\")\n",
    "plt.xlabel(\"time\")\n",
    "plt.title(\"Blood Alcohol Concentration vs time\")\n",
    "plt.show()\n",
    "\n",
    "plt.plot(simulate_drinking(3, 10, 2, 60))\n",
    "plt.axhline(y = 0.8, color = \"red\")\n",
    "plt.axhline(y = 4.0, color = \"gray\")\n",
    "plt.axhline(y = 5.0, color = \"black\", label = \"death\")\n",
    "plt.ylabel(\"Concentration of Alcohol In Blood\")\n",
    "plt.xlabel(\"time\")\n",
    "plt.title(\"Blood Alcohol Concentration vs time\")"
   ]
  }
 ],
 "metadata": {
  "kernelspec": {
   "display_name": "Python 3 (ipykernel)",
   "language": "python",
   "name": "python3"
  },
  "language_info": {
   "codemirror_mode": {
    "name": "ipython",
    "version": 3
   },
   "file_extension": ".py",
   "mimetype": "text/x-python",
   "name": "python",
   "nbconvert_exporter": "python",
   "pygments_lexer": "ipython3",
   "version": "3.9.7"
  }
 },
 "nbformat": 4,
 "nbformat_minor": 5
}
